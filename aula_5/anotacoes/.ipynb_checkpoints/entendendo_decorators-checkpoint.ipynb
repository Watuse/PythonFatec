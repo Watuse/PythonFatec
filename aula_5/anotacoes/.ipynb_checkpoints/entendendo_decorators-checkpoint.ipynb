{
 "cells": [
  {
   "cell_type": "markdown",
   "id": "f466caf9",
   "metadata": {},
   "source": [
    "# DECORATORS\n",
    "\n",
    "* O que são decorators?\n",
    "* Como aplicar decorators?\n",
    "* Decorators como classe.\n",
    "* Flask"
   ]
  },
  {
   "cell_type": "markdown",
   "id": "9d52c737",
   "metadata": {},
   "source": [
    "Em nível de função lambda, segue o exemplo:"
   ]
  },
  {
   "cell_type": "code",
   "execution_count": 6,
   "id": "a9a4745a",
   "metadata": {},
   "outputs": [
    {
     "name": "stdout",
     "output_type": "stream",
     "text": [
      "Cavalo!!!\n"
     ]
    }
   ],
   "source": [
    "# Uma função que retorna outra função\n",
    "pegar_cep = lambda: print\n",
    "pegar_cep()(\"Cavalo!!!\") # o pegar_cep() é convertido para print\n"
   ]
  },
  {
   "cell_type": "markdown",
   "id": "bddc6629",
   "metadata": {},
   "source": [
    "# CRIANDO FUNÇÕES"
   ]
  },
  {
   "cell_type": "code",
   "execution_count": 9,
   "id": "c76d51b9",
   "metadata": {},
   "outputs": [
    {
     "ename": "SyntaxError",
     "evalue": "invalid syntax (Temp/ipykernel_12976/2200081292.py, line 1)",
     "output_type": "error",
     "traceback": [
      "\u001b[1;36m  File \u001b[1;32m\"C:\\Users\\FATECS~1\\AppData\\Local\\Temp/ipykernel_12976/2200081292.py\"\u001b[1;36m, line \u001b[1;32m1\u001b[0m\n\u001b[1;33m    def func()\u001b[0m\n\u001b[1;37m              ^\u001b[0m\n\u001b[1;31mSyntaxError\u001b[0m\u001b[1;31m:\u001b[0m invalid syntax\n"
     ]
    }
   ],
   "source": [
    "def func()\n",
    "    pass"
   ]
  },
  {
   "cell_type": "markdown",
   "id": "b7cd2915",
   "metadata": {},
   "source": [
    "#### * Função que retorna valor"
   ]
  },
  {
   "cell_type": "code",
   "execution_count": 11,
   "id": "c9ba6ee5",
   "metadata": {},
   "outputs": [
    {
     "data": {
      "text/plain": [
       "'Valor retornado'"
      ]
     },
     "execution_count": 11,
     "metadata": {},
     "output_type": "execute_result"
    }
   ],
   "source": [
    "def retorna_valor():\n",
    "    return\"Valor retornado\"\n",
    "retorna_valor()"
   ]
  },
  {
   "cell_type": "markdown",
   "id": "a596ae19",
   "metadata": {},
   "source": [
    "#### * Função que recebe e retorna valores\n",
    "\n",
    "* Função com parametro(s): Função com variável"
   ]
  },
  {
   "cell_type": "code",
   "execution_count": 15,
   "id": "efa3f157",
   "metadata": {},
   "outputs": [
    {
     "name": "stdout",
     "output_type": "stream",
     "text": [
      "Fatec Fatec Fatec \n",
      "6\n"
     ]
    }
   ],
   "source": [
    "def func2(parametro): #Parametros -> variável\n",
    "    return parametro * 3\n",
    "\n",
    "print(func2(\"Fatec \")) #argumento -> valor literal\n",
    "print(func2(2))"
   ]
  },
  {
   "cell_type": "code",
   "execution_count": 16,
   "id": "aa0b4636",
   "metadata": {},
   "outputs": [],
   "source": [
    "#  Crie uma função que quando chamada e passo um valor inteiro retorne -1 (menos um) ex: 5 -> 4\n",
    "#  se o valor passado for um float trukate (remove o valor depois do ponto) 1.2 -> 1\n",
    "#  se o valor passado for texto retorno :)"
   ]
  },
  {
   "cell_type": "code",
   "execution_count": 20,
   "id": "6bfcab87",
   "metadata": {},
   "outputs": [
    {
     "data": {
      "text/plain": [
       "':)'"
      ]
     },
     "execution_count": 20,
     "metadata": {},
     "output_type": "execute_result"
    }
   ],
   "source": [
    "def fatec(parametro):\n",
    "    if type(parametro) == int:\n",
    "        return parametro - 1\n",
    "    elif type (parametro) ==float:\n",
    "        return int(parametro) #round(parametro)\n",
    "    else:\n",
    "        return \":)\"\n",
    "    \n",
    "fatec(\"\")"
   ]
  },
  {
   "cell_type": "code",
   "execution_count": 21,
   "id": "e76ceab0",
   "metadata": {},
   "outputs": [],
   "source": [
    "#  Crie uma função que retorna 6 valores aleatórios\n"
   ]
  },
  {
   "cell_type": "code",
   "execution_count": 43,
   "id": "5f1feae1",
   "metadata": {},
   "outputs": [
    {
     "data": {
      "text/plain": [
       "[8, 13, 16, 21, 32, 58]"
      ]
     },
     "execution_count": 43,
     "metadata": {},
     "output_type": "execute_result"
    }
   ],
   "source": [
    "import random\n",
    "def mega_sena():\n",
    "    digitos = []\n",
    "    for i in range(6):\n",
    "        digitos.append(random.randint(1, 60))\n",
    "    digitos.sort()\n",
    "    return digitos\n",
    "\n",
    "mega_sena()\n",
    "        \n",
    "    "
   ]
  }
 ],
 "metadata": {
  "kernelspec": {
   "display_name": "Python 3 (ipykernel)",
   "language": "python",
   "name": "python3"
  },
  "language_info": {
   "codemirror_mode": {
    "name": "ipython",
    "version": 3
   },
   "file_extension": ".py",
   "mimetype": "text/x-python",
   "name": "python",
   "nbconvert_exporter": "python",
   "pygments_lexer": "ipython3",
   "version": "3.9.7"
  }
 },
 "nbformat": 4,
 "nbformat_minor": 5
}
