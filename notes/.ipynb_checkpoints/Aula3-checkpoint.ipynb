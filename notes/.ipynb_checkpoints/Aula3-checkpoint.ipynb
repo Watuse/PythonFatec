{
 "cells": [
  {
   "cell_type": "code",
   "execution_count": 3,
   "id": "21b72d53",
   "metadata": {},
   "outputs": [
    {
     "name": "stdout",
     "output_type": "stream",
     "text": [
      "hello world!\n"
     ]
    }
   ],
   "source": [
    "print(\"hello world!\")"
   ]
  },
  {
   "cell_type": "code",
   "execution_count": 5,
   "id": "d907cffb",
   "metadata": {},
   "outputs": [
    {
     "data": {
      "text/plain": [
       "True"
      ]
     },
     "execution_count": 5,
     "metadata": {},
     "output_type": "execute_result"
    }
   ],
   "source": [
    "True\n"
   ]
  },
  {
   "cell_type": "markdown",
   "id": "a4e53414",
   "metadata": {},
   "source": [
    "# TIPOS DE DADOS"
   ]
  },
  {
   "cell_type": "markdown",
   "id": "46aba117",
   "metadata": {},
   "source": [
    "### STRING"
   ]
  },
  {
   "cell_type": "code",
   "execution_count": 7,
   "id": "eea1f920",
   "metadata": {},
   "outputs": [
    {
     "data": {
      "text/plain": [
       "'esse é um texto do tipo string de triplas duplas.'"
      ]
     },
     "execution_count": 7,
     "metadata": {},
     "output_type": "execute_result"
    }
   ],
   "source": [
    "'esse é um texto do tipo string de aspas simples.'\n",
    "\"esse é um texto do tipo string de aspas duplas.\"\n",
    "'''esse é um texto do tipo string de triplas simples.'''\n",
    "\"\"\"esse é um texto do tipo string de triplas duplas.\"\"\""
   ]
  },
  {
   "cell_type": "markdown",
   "id": "8f7e17cc",
   "metadata": {},
   "source": [
    "### CASOS ESPECIAIS DAS STRINGS"
   ]
  },
  {
   "cell_type": "markdown",
   "id": "a9a4b8ed",
   "metadata": {},
   "source": [
    "ESCAPE CHARACTER"
   ]
  },
  {
   "cell_type": "code",
   "execution_count": 11,
   "id": "74dbde33",
   "metadata": {},
   "outputs": [
    {
     "data": {
      "text/plain": [
       "'\"dont\\'t look at me\"'"
      ]
     },
     "execution_count": 11,
     "metadata": {},
     "output_type": "execute_result"
    }
   ],
   "source": [
    "\"\\\"dont't look at me\\\"\" # invisible (invisível) characters"
   ]
  },
  {
   "cell_type": "code",
   "execution_count": 13,
   "id": "5ddef00e",
   "metadata": {},
   "outputs": [
    {
     "name": "stdout",
     "output_type": "stream",
     "text": [
      "\"dont't look at me\"\n"
     ]
    }
   ],
   "source": [
    "print (\"\\\"dont't look at me\\\"\")"
   ]
  },
  {
   "cell_type": "code",
   "execution_count": 21,
   "id": "a9844371",
   "metadata": {},
   "outputs": [
    {
     "name": "stdout",
     "output_type": "stream",
     "text": [
      "olá mundo.\n",
      "meu nome é Watuse\n",
      "olá mundo. Meu nome é Watuse\n",
      "olá mundo. \tMeu nome é Watuse\n"
     ]
    }
   ],
   "source": [
    "print(\"olá mundo.\\nmeu nome é Watuse\")\n",
    "print(\"olá mundo. Meu nome é Watuse\")\n",
    "print(\"olá mundo. \\tMeu nome é Watuse\")"
   ]
  },
  {
   "cell_type": "markdown",
   "id": "079a1652",
   "metadata": {},
   "source": [
    "## DESAFIO 1: Em duas linhas imprima boas vindas ao usuário."
   ]
  },
  {
   "cell_type": "code",
   "execution_count": 42,
   "id": "96b5d50e",
   "metadata": {},
   "outputs": [
    {
     "name": "stdout",
     "output_type": "stream",
     "text": [
      "Digite seu nome e sua idade: watuse 37\n",
      "Olá watuse. \n",
      "Sua idade é 37.\n",
      "Digite seu nome e sua idade: watuse 37\n",
      "Olá watuse. \n",
      "Sua idade é 37.\n",
      "Digite seu nome e sua idade: watuse 37\n",
      "Olá watuse. \n",
      "Sua idade é 37.\n"
     ]
    }
   ],
   "source": [
    "#Solução 1\n",
    "dados = input(\"Digite seu nome e sua idade: \").split()\n",
    "print(f\"Olá {dados[0]}. \\nSua idade é {dados[1]}.\")\n",
    "\n",
    "#Solução 2\n",
    "dados = input(\"Digite seu nome e sua idade: \").split()\n",
    "print(\"Olá {}. \\nSua idade é {}.\".format(dados[0], dados[1]))\n",
    "\n",
    "##Solução 3\n",
    "nome, idade = input(\"Digite seu nome e sua idade: \").split()\n",
    "print(f\"Olá {nome}. \\nSua idade é {idade}.\")\n"
   ]
  },
  {
   "cell_type": "markdown",
   "id": "299939d7",
   "metadata": {},
   "source": [
    "### SPLIT"
   ]
  },
  {
   "cell_type": "code",
   "execution_count": 46,
   "id": "6e319353",
   "metadata": {},
   "outputs": [
    {
     "data": {
      "text/plain": [
       "['nome', 'idade', 'cpf', 'email']"
      ]
     },
     "execution_count": 46,
     "metadata": {},
     "output_type": "execute_result"
    }
   ],
   "source": [
    "\"nome,idade,cpf,email\".split(\",\")\n",
    "#\"nome, idade, cpf, email\".split()"
   ]
  },
  {
   "cell_type": "markdown",
   "id": "3c0186b7",
   "metadata": {},
   "source": [
    "### MANIPULANDO STRINGS/TEXTO"
   ]
  },
  {
   "cell_type": "code",
   "execution_count": 49,
   "id": "df64e563",
   "metadata": {},
   "outputs": [
    {
     "name": "stdout",
     "output_type": "stream",
     "text": [
      "\n",
      "COD,NOME,SIGLA\n",
      "35,São Paulo, SP\n",
      "41,Paraná, PR\n",
      "42,Santa Catarina, SC\n",
      "43,Rio Grande do Sul, RS\n",
      "50,Mato Grosso do Sul, MS\n",
      "11,Rondônia, RO\n",
      "12,Acre, AC\n",
      "13,Amazonas, AM\n",
      "14,Roraima, RR\n",
      "15,Pará, PA\n",
      "16,Amapá, AP\n",
      "17,Tocantins, TO\n",
      "21,Maranhão, MA\n",
      "24,Rio Grande do Norte, RN\n",
      "25,Paraíba, PB\n",
      "26,Pernambuco, PE\n",
      "27,Alagoas, AL\n",
      "28,Sergipe, SE\n",
      "29,Bahia, BA\n",
      "31,Minas Gerais, MG\n",
      "33,Rio de Janeiro, RJ\n",
      "51,Mato Grosso, MT\n",
      "52,Goiás, GO\n",
      "53,Distrito Federal, DF\n",
      "22,Piauí, PI\n",
      "23,Ceará, CE\n",
      "32,Espírito Santo, ES\n",
      "\n"
     ]
    }
   ],
   "source": [
    "estados = \"\"\"\n",
    "COD,NOME,SIGLA\n",
    "35,São Paulo, SP\n",
    "41,Paraná, PR\n",
    "42,Santa Catarina, SC\n",
    "43,Rio Grande do Sul, RS\n",
    "50,Mato Grosso do Sul, MS\n",
    "11,Rondônia, RO\n",
    "12,Acre, AC\n",
    "13,Amazonas, AM\n",
    "14,Roraima, RR\n",
    "15,Pará, PA\n",
    "16,Amapá, AP\n",
    "17,Tocantins, TO\n",
    "21,Maranhão, MA\n",
    "24,Rio Grande do Norte, RN\n",
    "25,Paraíba, PB\n",
    "26,Pernambuco, PE\n",
    "27,Alagoas, AL\n",
    "28,Sergipe, SE\n",
    "29,Bahia, BA\n",
    "31,Minas Gerais, MG\n",
    "33,Rio de Janeiro, RJ\n",
    "51,Mato Grosso, MT\n",
    "52,Goiás, GO\n",
    "53,Distrito Federal, DF\n",
    "22,Piauí, PI\n",
    "23,Ceará, CE\n",
    "32,Espírito Santo, ES\n",
    "\"\"\"\n",
    "print(estados)\n"
   ]
  },
  {
   "cell_type": "code",
   "execution_count": 52,
   "id": "1172413b",
   "metadata": {},
   "outputs": [
    {
     "data": {
      "text/plain": [
       "['COD,NOME,SIGLA',\n",
       " '35,São',\n",
       " 'Paulo,',\n",
       " 'SP',\n",
       " '41,Paraná,',\n",
       " 'PR',\n",
       " '42,Santa',\n",
       " 'Catarina,',\n",
       " 'SC',\n",
       " '43,Rio',\n",
       " 'Grande',\n",
       " 'do',\n",
       " 'Sul,',\n",
       " 'RS',\n",
       " '50,Mato',\n",
       " 'Grosso',\n",
       " 'do',\n",
       " 'Sul,',\n",
       " 'MS',\n",
       " '11,Rondônia,',\n",
       " 'RO',\n",
       " '12,Acre,',\n",
       " 'AC',\n",
       " '13,Amazonas,',\n",
       " 'AM',\n",
       " '14,Roraima,',\n",
       " 'RR',\n",
       " '15,Pará,',\n",
       " 'PA',\n",
       " '16,Amapá,',\n",
       " 'AP',\n",
       " '17,Tocantins,',\n",
       " 'TO',\n",
       " '21,Maranhão,',\n",
       " 'MA',\n",
       " '24,Rio',\n",
       " 'Grande',\n",
       " 'do',\n",
       " 'Norte,',\n",
       " 'RN',\n",
       " '25,Paraíba,',\n",
       " 'PB',\n",
       " '26,Pernambuco,',\n",
       " 'PE',\n",
       " '27,Alagoas,',\n",
       " 'AL',\n",
       " '28,Sergipe,',\n",
       " 'SE',\n",
       " '29,Bahia,',\n",
       " 'BA',\n",
       " '31,Minas',\n",
       " 'Gerais,',\n",
       " 'MG',\n",
       " '33,Rio',\n",
       " 'de',\n",
       " 'Janeiro,',\n",
       " 'RJ',\n",
       " '51,Mato',\n",
       " 'Grosso,',\n",
       " 'MT',\n",
       " '52,Goiás,',\n",
       " 'GO',\n",
       " '53,Distrito',\n",
       " 'Federal,',\n",
       " 'DF',\n",
       " '22,Piauí,',\n",
       " 'PI',\n",
       " '23,Ceará,',\n",
       " 'CE',\n",
       " '32,Espírito',\n",
       " 'Santo,',\n",
       " 'ES']"
      ]
     },
     "execution_count": 52,
     "metadata": {},
     "output_type": "execute_result"
    }
   ],
   "source": [
    "estados.split()"
   ]
  },
  {
   "cell_type": "code",
   "execution_count": 55,
   "id": "871a4ba8",
   "metadata": {},
   "outputs": [
    {
     "data": {
      "text/plain": [
       "['',\n",
       " 'COD,NOME,SIGLA',\n",
       " '35,São Paulo, SP',\n",
       " '41,Paraná, PR',\n",
       " '42,Santa Catarina, SC',\n",
       " '43,Rio Grande do Sul, RS',\n",
       " '50,Mato Grosso do Sul, MS',\n",
       " '11,Rondônia, RO',\n",
       " '12,Acre, AC',\n",
       " '13,Amazonas, AM',\n",
       " '14,Roraima, RR',\n",
       " '15,Pará, PA',\n",
       " '16,Amapá, AP',\n",
       " '17,Tocantins, TO',\n",
       " '21,Maranhão, MA',\n",
       " '24,Rio Grande do Norte, RN',\n",
       " '25,Paraíba, PB',\n",
       " '26,Pernambuco, PE',\n",
       " '27,Alagoas, AL',\n",
       " '28,Sergipe, SE',\n",
       " '29,Bahia, BA',\n",
       " '31,Minas Gerais, MG',\n",
       " '33,Rio de Janeiro, RJ',\n",
       " '51,Mato Grosso, MT',\n",
       " '52,Goiás, GO',\n",
       " '53,Distrito Federal, DF',\n",
       " '22,Piauí, PI',\n",
       " '23,Ceará, CE',\n",
       " '32,Espírito Santo, ES',\n",
       " '']"
      ]
     },
     "execution_count": 55,
     "metadata": {},
     "output_type": "execute_result"
    }
   ],
   "source": [
    "estados.split(\"\\n\")"
   ]
  },
  {
   "cell_type": "code",
   "execution_count": 56,
   "id": "23bfb1cb",
   "metadata": {},
   "outputs": [],
   "source": [
    "alunos = [\n",
    "    \"pablo\",\n",
    "    \"nicolas a.\",\n",
    "    \"raquel\",\n",
    "    \"patrick\",\n",
    "    \"lucas\",\n",
    "    \"rafael\",\n",
    "    \"rodolpho\",\n",
    "    \"natali\",\n",
    "    \"victor\",\n",
    "    \"thiago\",\n",
    "    \"roberval\",\n",
    "    \"vinicius\",\n",
    "    \"marcos\",\n",
    "    \"rodrigo\",\n",
    "    \"renan\",\n",
    "    \"nicolas f.\",\n",
    "    \"thalith\",\n",
    "    \"watuse\",\n",
    "    \"victoria\"\n",
    "]\n"
   ]
  },
  {
   "cell_type": "code",
   "execution_count": 57,
   "id": "1a35e16e",
   "metadata": {},
   "outputs": [],
   "source": [
    "## del alunos [2]\n",
    "## alunos\n",
    "## alunos.pop(1)\n"
   ]
  },
  {
   "cell_type": "code",
   "execution_count": 71,
   "id": "a331cb36",
   "metadata": {},
   "outputs": [
    {
     "data": {
      "text/plain": [
       "'renan'"
      ]
     },
     "execution_count": 71,
     "metadata": {},
     "output_type": "execute_result"
    }
   ],
   "source": [
    "import random\n",
    "\n",
    "alunos.pop(alunos.index(random.choice(alunos)))"
   ]
  },
  {
   "cell_type": "markdown",
   "id": "5d0b1682",
   "metadata": {},
   "source": [
    "### REQUISITOS PARA SER UM DEV DE RESPEITO"
   ]
  },
  {
   "cell_type": "markdown",
   "id": "668531e7",
   "metadata": {},
   "source": [
    "* Python: lógica de programação, portifólio, projetos e softwares criados(que resolvam problemas úteis)\n",
    "* Banco de dados: CSV, SQL: Sqlite3, Postgres, MySQL\n",
    "* Bibliotecas: Web (Flask, FastAPI, \"DJANGO eu não recomendo), DS (pandas, numpy, tensor flow, spark)\n",
    "* Processos/programação em nuvem: GCP, AWS, Heroku. (https://www.youtube.com/watch?v=TLRW_xTnQwY&t=1091s)\n",
    "*s: CSV, SQL: Sqlite3, Postgres, MySQL"
   ]
  },
  {
   "cell_type": "markdown",
   "id": "d1d1af0a",
   "metadata": {},
   "source": [
    "### OUTROS TIPOS DE STRINGS/TEXTO"
   ]
  },
  {
   "cell_type": "code",
   "execution_count": 93,
   "id": "a031b13e",
   "metadata": {},
   "outputs": [
    {
     "data": {
      "text/plain": [
       "b'watuse'"
      ]
     },
     "execution_count": 93,
     "metadata": {},
     "output_type": "execute_result"
    }
   ],
   "source": [
    "r\"raw string\" #texto seco, cru, literal\n",
    "b\"encoded text\" # texto binarizado, encodado\n",
    "\"watuse\".encode(\"ascii\")"
   ]
  },
  {
   "cell_type": "markdown",
   "id": "de92f751",
   "metadata": {},
   "source": [
    "### LISTAS  - Mutáveis"
   ]
  },
  {
   "cell_type": "code",
   "execution_count": 79,
   "id": "3191b6cc",
   "metadata": {},
   "outputs": [
    {
     "data": {
      "text/plain": [
       "'pêssego'"
      ]
     },
     "execution_count": 79,
     "metadata": {},
     "output_type": "execute_result"
    }
   ],
   "source": [
    "frutas = [\"tomate\", \"maçâ\", \"morango\", \"banana\", \"pêra\", \"pêssego\"]\n",
    "#print(frutas)\n",
    "#frutas [-6]\n",
    "frutas[len(frutas)-1]"
   ]
  },
  {
   "cell_type": "code",
   "execution_count": 94,
   "id": "2fcc4772",
   "metadata": {},
   "outputs": [
    {
     "name": "stdout",
     "output_type": "stream",
     "text": [
      "Digite seu nome e sobrenome: WATUSE SILVA\n",
      "As iniciais do seu nome são WS.\n",
      "WS\n",
      "W.S\n"
     ]
    }
   ],
   "source": [
    "nome, sobrenome = input(\"Digite seu nome e sobrenome: \").split()\n",
    "print(f\"As iniciais do seu nome são {nome [0]}{sobrenome[0]}.\")\n",
    "print(nome [0] + sobrenome[0])\n",
    "print(nome[0], sobrenome[0], sep=\".\")"
   ]
  },
  {
   "cell_type": "markdown",
   "id": "0f70f6ea",
   "metadata": {},
   "source": [
    "# FUNÇÕES"
   ]
  },
  {
   "cell_type": "markdown",
   "id": "86dd3531",
   "metadata": {},
   "source": [
    "### CRIANDO FUNÇÕES PRÓPRIAS"
   ]
  },
  {
   "cell_type": "markdown",
   "id": "a09ce948",
   "metadata": {},
   "source": [
    "* função dummy"
   ]
  },
  {
   "cell_type": "code",
   "execution_count": 96,
   "id": "85cf25d9",
   "metadata": {},
   "outputs": [],
   "source": [
    "#criação de função\n",
    "def minha_funcao():\n",
    "    pass"
   ]
  },
  {
   "cell_type": "code",
   "execution_count": null,
   "id": "b3f58494",
   "metadata": {},
   "outputs": [],
   "source": []
  }
 ],
 "metadata": {
  "kernelspec": {
   "display_name": "Python 3 (ipykernel)",
   "language": "python",
   "name": "python3"
  },
  "language_info": {
   "codemirror_mode": {
    "name": "ipython",
    "version": 3
   },
   "file_extension": ".py",
   "mimetype": "text/x-python",
   "name": "python",
   "nbconvert_exporter": "python",
   "pygments_lexer": "ipython3",
   "version": "3.9.7"
  }
 },
 "nbformat": 4,
 "nbformat_minor": 5
}
