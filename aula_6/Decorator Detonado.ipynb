{
 "cells": [
  {
   "cell_type": "markdown",
   "id": "2f98a7cb",
   "metadata": {},
   "source": [
    "# DECORATORS\n",
    "\n",
    "### Decorators de função, modificadores de comportamento\n"
   ]
  },
  {
   "cell_type": "code",
   "execution_count": 5,
   "id": "a8105560",
   "metadata": {},
   "outputs": [
    {
     "name": "stdout",
     "output_type": "stream",
     "text": [
      "dados\n"
     ]
    }
   ],
   "source": [
    "# em termos de um lambda \n",
    "\n",
    "uma_funcao = lambda: print\n",
    "uma_funcao()(\"dados\") # print (\"dados\")"
   ]
  },
  {
   "cell_type": "code",
   "execution_count": 7,
   "id": "da1df4c0",
   "metadata": {},
   "outputs": [
    {
     "data": {
      "text/plain": [
       "<function __main__.funcao_externa.<locals>.funcao_interna()>"
      ]
     },
     "execution_count": 7,
     "metadata": {},
     "output_type": "execute_result"
    }
   ],
   "source": [
    "# Em termos de uma função simples\n",
    "\n",
    "def funcao_externa(func):\n",
    "    def funcao_interna():\n",
    "        #coisas antes\n",
    "        func()\n",
    "        #coisas depois\n",
    "    return funcao_interna\n",
    "\n",
    "funcao_externa(print)\n"
   ]
  },
  {
   "cell_type": "code",
   "execution_count": 8,
   "id": "818110b1",
   "metadata": {},
   "outputs": [],
   "source": [
    "# Em termos de decorator com a nomenclatura correta \n",
    "import functools\n",
    "from functools import cache\n",
    "\n",
    "@functools.cache\n",
    "@cache\n",
    "def fibonacci():\n",
    "    pass\n",
    "fibonacci()"
   ]
  },
  {
   "cell_type": "markdown",
   "id": "0959ae53",
   "metadata": {},
   "source": [
    "## Criando nosso decorator"
   ]
  },
  {
   "cell_type": "markdown",
   "id": "b71aa871",
   "metadata": {},
   "source": [
    "### Criando uma função "
   ]
  },
  {
   "cell_type": "code",
   "execution_count": 13,
   "id": "e2d15973",
   "metadata": {},
   "outputs": [
    {
     "ename": "TypeError",
     "evalue": "unsupported operand type(s) for +: 'int' and 'str'",
     "output_type": "error",
     "traceback": [
      "\u001b[1;31m---------------------------------------------------------------------------\u001b[0m",
      "\u001b[1;31mTypeError\u001b[0m                                 Traceback (most recent call last)",
      "\u001b[1;32mC:\\Users\\FATECS~1\\AppData\\Local\\Temp/ipykernel_13816/952403888.py\u001b[0m in \u001b[0;36m<module>\u001b[1;34m\u001b[0m\n\u001b[0;32m      1\u001b[0m \u001b[1;32mdef\u001b[0m \u001b[0msoma\u001b[0m\u001b[1;33m(\u001b[0m\u001b[0mval_1\u001b[0m\u001b[1;33m,\u001b[0m \u001b[0mval_2\u001b[0m\u001b[1;33m)\u001b[0m\u001b[1;33m:\u001b[0m\u001b[1;33m\u001b[0m\u001b[1;33m\u001b[0m\u001b[0m\n\u001b[0;32m      2\u001b[0m     \u001b[1;32mreturn\u001b[0m \u001b[0mval_1\u001b[0m \u001b[1;33m+\u001b[0m \u001b[0mval_2\u001b[0m\u001b[1;33m\u001b[0m\u001b[1;33m\u001b[0m\u001b[0m\n\u001b[1;32m----> 3\u001b[1;33m \u001b[0msoma\u001b[0m\u001b[1;33m(\u001b[0m\u001b[1;36m1\u001b[0m\u001b[1;33m,\u001b[0m \u001b[1;34m\"2\"\u001b[0m\u001b[1;33m)\u001b[0m\u001b[1;33m\u001b[0m\u001b[1;33m\u001b[0m\u001b[0m\n\u001b[0m",
      "\u001b[1;32mC:\\Users\\FATECS~1\\AppData\\Local\\Temp/ipykernel_13816/952403888.py\u001b[0m in \u001b[0;36msoma\u001b[1;34m(val_1, val_2)\u001b[0m\n\u001b[0;32m      1\u001b[0m \u001b[1;32mdef\u001b[0m \u001b[0msoma\u001b[0m\u001b[1;33m(\u001b[0m\u001b[0mval_1\u001b[0m\u001b[1;33m,\u001b[0m \u001b[0mval_2\u001b[0m\u001b[1;33m)\u001b[0m\u001b[1;33m:\u001b[0m\u001b[1;33m\u001b[0m\u001b[1;33m\u001b[0m\u001b[0m\n\u001b[1;32m----> 2\u001b[1;33m     \u001b[1;32mreturn\u001b[0m \u001b[0mval_1\u001b[0m \u001b[1;33m+\u001b[0m \u001b[0mval_2\u001b[0m\u001b[1;33m\u001b[0m\u001b[1;33m\u001b[0m\u001b[0m\n\u001b[0m\u001b[0;32m      3\u001b[0m \u001b[0msoma\u001b[0m\u001b[1;33m(\u001b[0m\u001b[1;36m1\u001b[0m\u001b[1;33m,\u001b[0m \u001b[1;34m\"2\"\u001b[0m\u001b[1;33m)\u001b[0m\u001b[1;33m\u001b[0m\u001b[1;33m\u001b[0m\u001b[0m\n",
      "\u001b[1;31mTypeError\u001b[0m: unsupported operand type(s) for +: 'int' and 'str'"
     ]
    }
   ],
   "source": [
    "def piscina(val_1, val_2):\n",
    "    return val_1 + val_2\n",
    "\n",
    "\n",
    "\n",
    "piscina(1, \"2\")"
   ]
  },
  {
   "cell_type": "code",
   "execution_count": 14,
   "id": "bcb9273d",
   "metadata": {},
   "outputs": [
    {
     "data": {
      "text/plain": [
       "\"Operação não suportada: unsupported operand type(s) for +: 'int' and 'str'\""
      ]
     },
     "execution_count": 14,
     "metadata": {},
     "output_type": "execute_result"
    }
   ],
   "source": [
    "# piscina - função que permite usuários utilizarem a piscina\n",
    "\n",
    "def piscina(val_1, val_2):\n",
    "    try:\n",
    "        return val_1 + val_2\n",
    "    except Exception as err:\n",
    "        # usuário entrou na piscina\n",
    "        return f\"Operação não suportada: {err}\"\n",
    "\n",
    "\n",
    "\n",
    "piscina(1, \"2\")"
   ]
  },
  {
   "cell_type": "code",
   "execution_count": 23,
   "id": "708f64dd",
   "metadata": {},
   "outputs": [
    {
     "name": "stdout",
     "output_type": "stream",
     "text": [
      "REALIZANDO EXAME\n",
      "EXAME REALIZADO\n"
     ]
    }
   ],
   "source": [
    "# exame - função quer verifica se o usuário está apto a nadar\n",
    "def exame(paciente):\n",
    "    def medico(formulario): #papeis de exame\n",
    "        print(\"REALIZANDO EXAME\")\n",
    "        paciente(formulario)\n",
    "        print(\"EXAME REALIZADO\")\n",
    "    return medico\n",
    "@exame\n",
    "def paciente(formulario_preenchido):\n",
    "    1 + 1\n",
    "   \n",
    "paciente(1)"
   ]
  },
  {
   "cell_type": "markdown",
   "id": "c8349225",
   "metadata": {},
   "source": [
    "### ENTENDENDO MAIS SOBRE FUNÇÕES"
   ]
  },
  {
   "cell_type": "markdown",
   "id": "c7a65a03",
   "metadata": {},
   "source": [
    "* Função com parâmetro"
   ]
  },
  {
   "cell_type": "code",
   "execution_count": 25,
   "id": "9d324535",
   "metadata": {},
   "outputs": [],
   "source": [
    "def func(param): #valor rígido\n",
    "    pass"
   ]
  },
  {
   "cell_type": "markdown",
   "id": "2b2a94b0",
   "metadata": {},
   "source": [
    "* Função sem parâmetro"
   ]
  },
  {
   "cell_type": "code",
   "execution_count": null,
   "id": "73d2e0fb",
   "metadata": {},
   "outputs": [],
   "source": [
    "def func(): # sem valor\n",
    "    pass"
   ]
  },
  {
   "cell_type": "markdown",
   "id": "bb801d8a",
   "metadata": {},
   "source": [
    "* Função Dinâmica"
   ]
  },
  {
   "cell_type": "code",
   "execution_count": 30,
   "id": "94c5831c",
   "metadata": {},
   "outputs": [
    {
     "name": "stdout",
     "output_type": "stream",
     "text": [
      "4\n",
      "1\n"
     ]
    }
   ],
   "source": [
    "def func(*args): # desempacotador\n",
    "    for valor in args:\n",
    "        print(valor)\n",
    "        \n",
    "func(4, 1)"
   ]
  },
  {
   "cell_type": "code",
   "execution_count": 36,
   "id": "2cf83559",
   "metadata": {},
   "outputs": [
    {
     "name": "stdout",
     "output_type": "stream",
     "text": [
      "Essa é a chave: nome\n",
      "E esse é o valor cavalo\n"
     ]
    }
   ],
   "source": [
    "def func2(**kwargs):\n",
    "    for chave, valor in kwargs.items():\n",
    "        print(f\"Essa é a chave: {chave}\")\n",
    "        print(f\"E esse é o valor {valor}\")\n",
    "          \n",
    "func2(nome=\"cavalo\")"
   ]
  },
  {
   "cell_type": "code",
   "execution_count": 37,
   "id": "e40c1614",
   "metadata": {},
   "outputs": [
    {
     "name": "stdout",
     "output_type": "stream",
     "text": [
      "Requirement already satisfied: Flask in c:\\users\\fatecsdp-ti\\anaconda3\\lib\\site-packages (1.1.2)\n",
      "Requirement already satisfied: Werkzeug>=0.15 in c:\\users\\fatecsdp-ti\\anaconda3\\lib\\site-packages (from Flask) (2.0.2)\n",
      "Requirement already satisfied: Jinja2>=2.10.1 in c:\\users\\fatecsdp-ti\\anaconda3\\lib\\site-packages (from Flask) (2.11.3)\n",
      "Requirement already satisfied: itsdangerous>=0.24 in c:\\users\\fatecsdp-ti\\anaconda3\\lib\\site-packages (from Flask) (2.0.1)\n",
      "Requirement already satisfied: click>=5.1 in c:\\users\\fatecsdp-ti\\anaconda3\\lib\\site-packages (from Flask) (8.0.3)\n",
      "Requirement already satisfied: colorama in c:\\users\\fatecsdp-ti\\anaconda3\\lib\\site-packages (from click>=5.1->Flask) (0.4.4)\n",
      "Requirement already satisfied: MarkupSafe>=0.23 in c:\\users\\fatecsdp-ti\\anaconda3\\lib\\site-packages (from Jinja2>=2.10.1->Flask) (1.1.1)\n"
     ]
    }
   ],
   "source": [
    "!pip install Flask"
   ]
  },
  {
   "cell_type": "code",
   "execution_count": null,
   "id": "936a31af",
   "metadata": {},
   "outputs": [],
   "source": []
  }
 ],
 "metadata": {
  "kernelspec": {
   "display_name": "Python 3 (ipykernel)",
   "language": "python",
   "name": "python3"
  },
  "language_info": {
   "codemirror_mode": {
    "name": "ipython",
    "version": 3
   },
   "file_extension": ".py",
   "mimetype": "text/x-python",
   "name": "python",
   "nbconvert_exporter": "python",
   "pygments_lexer": "ipython3",
   "version": "3.9.7"
  }
 },
 "nbformat": 4,
 "nbformat_minor": 5
}
